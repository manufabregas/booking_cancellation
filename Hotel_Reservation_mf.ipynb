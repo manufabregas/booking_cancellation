{
  "nbformat": 4,
  "nbformat_minor": 0,
  "metadata": {
    "colab": {
      "provenance": []
    },
    "kernelspec": {
      "name": "python3",
      "display_name": "Python 3"
    },
    "language_info": {
      "name": "python"
    }
  },
  "cells": [
    {
      "cell_type": "code",
      "execution_count": 1,
      "metadata": {
        "id": "zsFMGs0YrsAe"
      },
      "outputs": [],
      "source": [
        "from sklearn.linear_model import LogisticRegression\n",
        "from sklearn.neighbors import KNeighborsClassifier\n",
        "from sklearn.svm import SVC\n",
        "from sklearn.tree import DecisionTreeClassifier\n",
        "from sklearn.naive_bayes import GaussianNB\n",
        "from sklearn.ensemble import RandomForestClassifier, GradientBoostingClassifier\n",
        "from sklearn.metrics import accuracy_score, precision_score, recall_score, f1_score, roc_auc_score, confusion_matrix, classification_report,ConfusionMatrixDisplay\n",
        "import matplotlib.pyplot as plt\n",
        "import seaborn as sns\n",
        "from sklearn.preprocessing import StandardScaler, LabelEncoder\n",
        "from sklearn.preprocessing import OneHotEncoder\n",
        "from sklearn.impute import SimpleImputer\n",
        "from sklearn.model_selection import train_test_split, GridSearchCV, StratifiedKFold\n",
        "import pandas as pd\n",
        "import numpy as np\n",
        "pd.set_option('display.max_columns', None)\n"
      ]
    },
    {
      "cell_type": "markdown",
      "source": [
        "* **hotel**: Tipo de hotel (puede ser \"Resort Hotel\" o \"City Hotel\").\n",
        "* **is_canceled**: Indica si la reserva fue cancelada (1 = sí, 0 = no).\n",
        "* **lead_time**: Días entre la fecha de reserva y la fecha de llegada.\n",
        "* **arrival_date_year**: Año de llegada.\n",
        "* **arrival_date_month**: Mes de llegada.\n",
        "* **arrival_date_week_number**: Número de la semana en el año de llegada.\n",
        "* **arrival_date_day_of_month**: Día del mes en que se espera la llegada.\n",
        "* **stays_in_weekend_nights**: Número de noches de fin de semana reservadas (viernes y sábado).\n",
        "* **stays_in_week_nights**: Número de noches entre semana reservadas (lunes a jueves).\n",
        "* **adults**: Número de adultos incluidos en la reserva.\n",
        "* **children**: Número de niños incluidos en la reserva.\n",
        "* **babies**: Número de bebés incluidos en la reserva.\n",
        "* **meal**: Tipo de comida reservada (e.g., BB = desayuno incluido, HB = media pensión, FB = pensión completa).\n",
        "* **country**: País del huésped.\n",
        "* **market_segment**: Segmento de mercado al que pertenece la reserva (e.g., online, corporativo, grupos).\n",
        "* **distribution_channel**: Canal de distribución utilizado para la reserva (e.g., agencia de viajes, directo).\n",
        "* **is_repeated_guest**: Indica si el huésped ha reservado anteriormente en el hotel (1 = sí, 0 = no).\n",
        "* **previous_cancellations**: Número de cancelaciones anteriores del huésped.\n",
        "* **previous_bookings_not_canceled**: Número de reservas anteriores que no fueron canceladas.\n",
        "* **reserved_room_type**: Tipo de habitación reservada.\n",
        "* **assigned_room_type**: Tipo de habitación asignada al huésped.\n",
        "* **booking_changes**: Número de cambios en la reserva realizados por el huésped.\n",
        "* **deposit_type**: Tipo de depósito (e.g., No Deposit, Non Refundable, Refundable).\n",
        "* **agent**: ID del agente que gestionó la reserva.\n",
        "* **company**: ID de la empresa que gestionó la reserva (si aplica).\n",
        "* **days_in_waiting_list**: Días que la reserva estuvo en lista de espera.\n",
        "* **customer_type**: Tipo de cliente (e.g., Contract, Transient, Group, Transient-Party).\n",
        "* **adr**: Tarifa diaria promedio (Average Daily Rate) por habitación.\n",
        "* **required_car_parking_spaces**: Número de espacios de aparcamiento requeridos por el huésped.\n",
        "* **total_of_special_requests**: Número total de solicitudes especiales hechas por el huésped.\n",
        "* **reservation_status**: Estado de la reserva (e.g., Check-Out, Canceled, No-Show).\n",
        "* **reservation_status_date**: Fecha en que se actualizó el estado de la reserva."
      ],
      "metadata": {
        "id": "sIj4tFUqoCYc"
      }
    },
    {
      "cell_type": "code",
      "source": [
        "df=pd.read_csv(\"./hotel_bookings.csv\")\n",
        "print(df.columns)\n",
        "df.head()"
      ],
      "metadata": {
        "colab": {
          "base_uri": "https://localhost:8080/",
          "height": 321
        },
        "id": "e76FpoJGsLpi",
        "outputId": "1d1dd51a-356c-4150-c9dc-6bb3c909e681"
      },
      "execution_count": 2,
      "outputs": [
        {
          "output_type": "error",
          "ename": "FileNotFoundError",
          "evalue": "[Errno 2] No such file or directory: './hotel_bookings.csv'",
          "traceback": [
            "\u001b[0;31m---------------------------------------------------------------------------\u001b[0m",
            "\u001b[0;31mFileNotFoundError\u001b[0m                         Traceback (most recent call last)",
            "\u001b[0;32m<ipython-input-2-6320d472b6c2>\u001b[0m in \u001b[0;36m<cell line: 1>\u001b[0;34m()\u001b[0m\n\u001b[0;32m----> 1\u001b[0;31m \u001b[0mdf\u001b[0m\u001b[0;34m=\u001b[0m\u001b[0mpd\u001b[0m\u001b[0;34m.\u001b[0m\u001b[0mread_csv\u001b[0m\u001b[0;34m(\u001b[0m\u001b[0;34m\"./hotel_bookings.csv\"\u001b[0m\u001b[0;34m)\u001b[0m\u001b[0;34m\u001b[0m\u001b[0;34m\u001b[0m\u001b[0m\n\u001b[0m\u001b[1;32m      2\u001b[0m \u001b[0mprint\u001b[0m\u001b[0;34m(\u001b[0m\u001b[0mdf\u001b[0m\u001b[0;34m.\u001b[0m\u001b[0mcolumns\u001b[0m\u001b[0;34m)\u001b[0m\u001b[0;34m\u001b[0m\u001b[0;34m\u001b[0m\u001b[0m\n\u001b[1;32m      3\u001b[0m \u001b[0mdf\u001b[0m\u001b[0;34m.\u001b[0m\u001b[0mhead\u001b[0m\u001b[0;34m(\u001b[0m\u001b[0;34m)\u001b[0m\u001b[0;34m\u001b[0m\u001b[0;34m\u001b[0m\u001b[0m\n",
            "\u001b[0;32m/usr/local/lib/python3.10/dist-packages/pandas/io/parsers/readers.py\u001b[0m in \u001b[0;36mread_csv\u001b[0;34m(filepath_or_buffer, sep, delimiter, header, names, index_col, usecols, dtype, engine, converters, true_values, false_values, skipinitialspace, skiprows, skipfooter, nrows, na_values, keep_default_na, na_filter, verbose, skip_blank_lines, parse_dates, infer_datetime_format, keep_date_col, date_parser, date_format, dayfirst, cache_dates, iterator, chunksize, compression, thousands, decimal, lineterminator, quotechar, quoting, doublequote, escapechar, comment, encoding, encoding_errors, dialect, on_bad_lines, delim_whitespace, low_memory, memory_map, float_precision, storage_options, dtype_backend)\u001b[0m\n\u001b[1;32m    946\u001b[0m     \u001b[0mkwds\u001b[0m\u001b[0;34m.\u001b[0m\u001b[0mupdate\u001b[0m\u001b[0;34m(\u001b[0m\u001b[0mkwds_defaults\u001b[0m\u001b[0;34m)\u001b[0m\u001b[0;34m\u001b[0m\u001b[0;34m\u001b[0m\u001b[0m\n\u001b[1;32m    947\u001b[0m \u001b[0;34m\u001b[0m\u001b[0m\n\u001b[0;32m--> 948\u001b[0;31m     \u001b[0;32mreturn\u001b[0m \u001b[0m_read\u001b[0m\u001b[0;34m(\u001b[0m\u001b[0mfilepath_or_buffer\u001b[0m\u001b[0;34m,\u001b[0m \u001b[0mkwds\u001b[0m\u001b[0;34m)\u001b[0m\u001b[0;34m\u001b[0m\u001b[0;34m\u001b[0m\u001b[0m\n\u001b[0m\u001b[1;32m    949\u001b[0m \u001b[0;34m\u001b[0m\u001b[0m\n\u001b[1;32m    950\u001b[0m \u001b[0;34m\u001b[0m\u001b[0m\n",
            "\u001b[0;32m/usr/local/lib/python3.10/dist-packages/pandas/io/parsers/readers.py\u001b[0m in \u001b[0;36m_read\u001b[0;34m(filepath_or_buffer, kwds)\u001b[0m\n\u001b[1;32m    609\u001b[0m \u001b[0;34m\u001b[0m\u001b[0m\n\u001b[1;32m    610\u001b[0m     \u001b[0;31m# Create the parser.\u001b[0m\u001b[0;34m\u001b[0m\u001b[0;34m\u001b[0m\u001b[0m\n\u001b[0;32m--> 611\u001b[0;31m     \u001b[0mparser\u001b[0m \u001b[0;34m=\u001b[0m \u001b[0mTextFileReader\u001b[0m\u001b[0;34m(\u001b[0m\u001b[0mfilepath_or_buffer\u001b[0m\u001b[0;34m,\u001b[0m \u001b[0;34m**\u001b[0m\u001b[0mkwds\u001b[0m\u001b[0;34m)\u001b[0m\u001b[0;34m\u001b[0m\u001b[0;34m\u001b[0m\u001b[0m\n\u001b[0m\u001b[1;32m    612\u001b[0m \u001b[0;34m\u001b[0m\u001b[0m\n\u001b[1;32m    613\u001b[0m     \u001b[0;32mif\u001b[0m \u001b[0mchunksize\u001b[0m \u001b[0;32mor\u001b[0m \u001b[0miterator\u001b[0m\u001b[0;34m:\u001b[0m\u001b[0;34m\u001b[0m\u001b[0;34m\u001b[0m\u001b[0m\n",
            "\u001b[0;32m/usr/local/lib/python3.10/dist-packages/pandas/io/parsers/readers.py\u001b[0m in \u001b[0;36m__init__\u001b[0;34m(self, f, engine, **kwds)\u001b[0m\n\u001b[1;32m   1446\u001b[0m \u001b[0;34m\u001b[0m\u001b[0m\n\u001b[1;32m   1447\u001b[0m         \u001b[0mself\u001b[0m\u001b[0;34m.\u001b[0m\u001b[0mhandles\u001b[0m\u001b[0;34m:\u001b[0m \u001b[0mIOHandles\u001b[0m \u001b[0;34m|\u001b[0m \u001b[0;32mNone\u001b[0m \u001b[0;34m=\u001b[0m \u001b[0;32mNone\u001b[0m\u001b[0;34m\u001b[0m\u001b[0;34m\u001b[0m\u001b[0m\n\u001b[0;32m-> 1448\u001b[0;31m         \u001b[0mself\u001b[0m\u001b[0;34m.\u001b[0m\u001b[0m_engine\u001b[0m \u001b[0;34m=\u001b[0m \u001b[0mself\u001b[0m\u001b[0;34m.\u001b[0m\u001b[0m_make_engine\u001b[0m\u001b[0;34m(\u001b[0m\u001b[0mf\u001b[0m\u001b[0;34m,\u001b[0m \u001b[0mself\u001b[0m\u001b[0;34m.\u001b[0m\u001b[0mengine\u001b[0m\u001b[0;34m)\u001b[0m\u001b[0;34m\u001b[0m\u001b[0;34m\u001b[0m\u001b[0m\n\u001b[0m\u001b[1;32m   1449\u001b[0m \u001b[0;34m\u001b[0m\u001b[0m\n\u001b[1;32m   1450\u001b[0m     \u001b[0;32mdef\u001b[0m \u001b[0mclose\u001b[0m\u001b[0;34m(\u001b[0m\u001b[0mself\u001b[0m\u001b[0;34m)\u001b[0m \u001b[0;34m->\u001b[0m \u001b[0;32mNone\u001b[0m\u001b[0;34m:\u001b[0m\u001b[0;34m\u001b[0m\u001b[0;34m\u001b[0m\u001b[0m\n",
            "\u001b[0;32m/usr/local/lib/python3.10/dist-packages/pandas/io/parsers/readers.py\u001b[0m in \u001b[0;36m_make_engine\u001b[0;34m(self, f, engine)\u001b[0m\n\u001b[1;32m   1703\u001b[0m                 \u001b[0;32mif\u001b[0m \u001b[0;34m\"b\"\u001b[0m \u001b[0;32mnot\u001b[0m \u001b[0;32min\u001b[0m \u001b[0mmode\u001b[0m\u001b[0;34m:\u001b[0m\u001b[0;34m\u001b[0m\u001b[0;34m\u001b[0m\u001b[0m\n\u001b[1;32m   1704\u001b[0m                     \u001b[0mmode\u001b[0m \u001b[0;34m+=\u001b[0m \u001b[0;34m\"b\"\u001b[0m\u001b[0;34m\u001b[0m\u001b[0;34m\u001b[0m\u001b[0m\n\u001b[0;32m-> 1705\u001b[0;31m             self.handles = get_handle(\n\u001b[0m\u001b[1;32m   1706\u001b[0m                 \u001b[0mf\u001b[0m\u001b[0;34m,\u001b[0m\u001b[0;34m\u001b[0m\u001b[0;34m\u001b[0m\u001b[0m\n\u001b[1;32m   1707\u001b[0m                 \u001b[0mmode\u001b[0m\u001b[0;34m,\u001b[0m\u001b[0;34m\u001b[0m\u001b[0;34m\u001b[0m\u001b[0m\n",
            "\u001b[0;32m/usr/local/lib/python3.10/dist-packages/pandas/io/common.py\u001b[0m in \u001b[0;36mget_handle\u001b[0;34m(path_or_buf, mode, encoding, compression, memory_map, is_text, errors, storage_options)\u001b[0m\n\u001b[1;32m    861\u001b[0m         \u001b[0;32mif\u001b[0m \u001b[0mioargs\u001b[0m\u001b[0;34m.\u001b[0m\u001b[0mencoding\u001b[0m \u001b[0;32mand\u001b[0m \u001b[0;34m\"b\"\u001b[0m \u001b[0;32mnot\u001b[0m \u001b[0;32min\u001b[0m \u001b[0mioargs\u001b[0m\u001b[0;34m.\u001b[0m\u001b[0mmode\u001b[0m\u001b[0;34m:\u001b[0m\u001b[0;34m\u001b[0m\u001b[0;34m\u001b[0m\u001b[0m\n\u001b[1;32m    862\u001b[0m             \u001b[0;31m# Encoding\u001b[0m\u001b[0;34m\u001b[0m\u001b[0;34m\u001b[0m\u001b[0m\n\u001b[0;32m--> 863\u001b[0;31m             handle = open(\n\u001b[0m\u001b[1;32m    864\u001b[0m                 \u001b[0mhandle\u001b[0m\u001b[0;34m,\u001b[0m\u001b[0;34m\u001b[0m\u001b[0;34m\u001b[0m\u001b[0m\n\u001b[1;32m    865\u001b[0m                 \u001b[0mioargs\u001b[0m\u001b[0;34m.\u001b[0m\u001b[0mmode\u001b[0m\u001b[0;34m,\u001b[0m\u001b[0;34m\u001b[0m\u001b[0;34m\u001b[0m\u001b[0m\n",
            "\u001b[0;31mFileNotFoundError\u001b[0m: [Errno 2] No such file or directory: './hotel_bookings.csv'"
          ]
        }
      ]
    },
    {
      "cell_type": "markdown",
      "source": [
        "# **ANÁLISIS EXPLORATORIO**\n",
        "\n",
        "---\n",
        "\n"
      ],
      "metadata": {
        "id": "0Fw7DG4GqYMm"
      }
    },
    {
      "cell_type": "code",
      "source": [
        "df.info()"
      ],
      "metadata": {
        "id": "qV1AYigptGAz"
      },
      "execution_count": null,
      "outputs": []
    },
    {
      "cell_type": "code",
      "source": [
        "import missingno as msno\n",
        "msno.bar(df)"
      ],
      "metadata": {
        "id": "gsD1xWeutU-N"
      },
      "execution_count": null,
      "outputs": []
    },
    {
      "cell_type": "code",
      "source": [
        "# msno.dendrogram(df)"
      ],
      "metadata": {
        "id": "7oGm3fDpuaHt"
      },
      "execution_count": null,
      "outputs": []
    },
    {
      "cell_type": "markdown",
      "source": [
        "**Verificamos que no haya valores duplicados**"
      ],
      "metadata": {
        "id": "CsxknPH7GZaM"
      }
    },
    {
      "cell_type": "code",
      "source": [
        "#Chequeamos que no haya filas duplicadas\n",
        "df_check=df.duplicated().sum()\n",
        "print(df.shape)\n",
        "df_check"
      ],
      "metadata": {
        "id": "thYTnM1axDCr"
      },
      "execution_count": null,
      "outputs": []
    },
    {
      "cell_type": "code",
      "source": [
        "#Eliminamos las filas duplicadas\n",
        "df=df.drop_duplicates()\n",
        "print(df.shape)\n",
        "df.head(3)"
      ],
      "metadata": {
        "id": "PnxlysJCx5nr"
      },
      "execution_count": null,
      "outputs": []
    },
    {
      "cell_type": "code",
      "source": [
        "# Separamos columnas numéricas\n",
        "df_numerico = df.select_dtypes(include=['int64', 'float64'])\n",
        "# print(df_numerico)\n",
        "print(len(df_numerico.columns))\n",
        "\n",
        "# Separamos columnas categóricas\n",
        "df_categorico = df.select_dtypes(include=['object', 'category'])\n",
        "# print(df_categorico)\n",
        "print(len(df_categorico.columns))"
      ],
      "metadata": {
        "id": "ftvb5x6YvhLU"
      },
      "execution_count": null,
      "outputs": []
    },
    {
      "cell_type": "markdown",
      "source": [
        "# **ANÁLISIS DE VARIABLES CATEGÓRICAS**"
      ],
      "metadata": {
        "id": "m5r7jStZizlA"
      }
    },
    {
      "cell_type": "code",
      "source": [
        "df_cat_rel=df_categorico.copy()[['hotel','arrival_date_month','market_segment','reservation_status','deposit_type']] #,'country'\n",
        "\n",
        "for i in df_cat_rel.columns:\n",
        "    print(df_cat_rel[i].unique())\n",
        "\n",
        "df_cat_rel.head(3)"
      ],
      "metadata": {
        "id": "Kc-dZtwYBkXM"
      },
      "execution_count": null,
      "outputs": []
    },
    {
      "cell_type": "code",
      "source": [
        "# # Elimino la col pais por el momento, ya que no tengo forma de saber el país de origen para rellenar\n",
        "# df_check=df.copy()\n",
        "# df_check=df_check[df_check['country'].isna()]\n",
        "# df_check"
      ],
      "metadata": {
        "id": "bLHQ-h4LEf5X"
      },
      "execution_count": null,
      "outputs": []
    },
    {
      "cell_type": "code",
      "source": [
        "df_count_cat=df_categorico.copy()\n",
        "df_count_cat=pd.concat([df_count_cat,df_numerico['is_canceled']],axis=1)\n",
        "df_count_cat=df_count_cat.drop('country',axis=1)\n",
        "\n",
        "# Crear una lista de las columnas categóricas\n",
        "categorical_columns = df_count_cat.select_dtypes(include='object').columns\n",
        "\n",
        "# Crear subplots para visualizar cada variable categórica\n",
        "fig, axes = plt.subplots(nrows=len(categorical_columns), ncols=1, figsize=(10, 5 * len(categorical_columns)))\n",
        "\n",
        "for i, col in enumerate(categorical_columns):\n",
        "    ax = axes[i] if len(categorical_columns) > 1 else axes\n",
        "    sns.countplot(data=df_count_cat, x=col, hue='is_canceled', ax=ax)\n",
        "    ax.set_title(f'Distribución de {col} en función de is_canceled')\n",
        "    ax.set_xlabel(col)\n",
        "    ax.set_ylabel('Cantidad')\n",
        "\n",
        "plt.tight_layout()\n",
        "plt.show()"
      ],
      "metadata": {
        "id": "6WRRjhhwagFD"
      },
      "execution_count": null,
      "outputs": []
    },
    {
      "cell_type": "code",
      "source": [
        "#Realizo las transformaciones a las variables categóricas\n",
        "df_cat_rel=df_cat_rel[~df_cat_rel['deposit_type'].isna()] #elimino un solo registro que tiene datos vacíos\n",
        "\n",
        "le=LabelEncoder()\n",
        "\n",
        "df_cat_rel[\"hotel\"]=le.fit_transform(df_cat_rel[\"hotel\"])\n",
        "df_cat_rel[\"arrival_date_month\"]=le.fit_transform(df_cat_rel[\"arrival_date_month\"])\n",
        "\n",
        "# df_cat_rel[\"hotel\"].replace({\"Resort Hotel\": 1, \"City Hotel\": 2}, inplace=True)\n",
        "# df_cat_rel[\"arrival_date_month\"].replace({'January': 1, 'February': 2, 'March': 3, 'April': 4, 'May': 5, 'June': 6, 'July': 7, 'August': 8, 'September': 9, 'October': 10, 'November': 11, 'December': 12}, inplace=True)\n",
        "\n",
        "df_cat_rel = pd.get_dummies(df_cat_rel.copy(), columns=[ 'market_segment','reservation_status','deposit_type'], prefix=['ms', 'rs','dt']).astype(int)\n",
        "df_cat_rel.head(3)"
      ],
      "metadata": {
        "id": "WXTMh4hKC1V3"
      },
      "execution_count": null,
      "outputs": []
    },
    {
      "cell_type": "markdown",
      "source": [
        "# **ANÁLISIS DE VARIABLES NUMÉRICAS**"
      ],
      "metadata": {
        "id": "NQXaRqZgi8il"
      }
    },
    {
      "cell_type": "code",
      "source": [
        "cols_graf=df_numerico#.columns[1:]\n",
        "\n",
        "plt.figure(figsize=(20, 17), dpi=100)\n",
        "\n",
        "for i, columna in enumerate(cols_graf, start=1):\n",
        "    plt.subplot(4, 5, i)\n",
        "    sns.histplot(data=df_numerico, x=columna,hue=df_numerico['is_canceled'])\n",
        "    plt.tight_layout()\n",
        "    plt.xticks(rotation=45, ha='right')\n"
      ],
      "metadata": {
        "id": "G5FGkmSBX1sf"
      },
      "execution_count": null,
      "outputs": []
    },
    {
      "cell_type": "code",
      "source": [
        "cols_graf_new = df_numerico.columns[1:]\n",
        "\n",
        "import plotly.express as px\n",
        "from plotly.subplots import make_subplots\n",
        "\n",
        "fig = make_subplots(rows=len(cols_graf_new), cols=1, subplot_titles=[f'{col} vs cancelación' for col in cols_graf_new] )\n",
        "\n",
        "for i, column in enumerate(cols_graf_new):\n",
        "    df_grouped = df_numerico.groupby([column, 'is_canceled']).size().reset_index(name='counts')\n",
        "    scatter = px.scatter(df_grouped, x=column, y='is_canceled', size='counts', title=f'{column} vs cancelación')\n",
        "    for trace in scatter.data:\n",
        "        fig.add_trace(trace, row=i+1, col=1)\n",
        "\n",
        "# # Actualizar el layout de la figura\n",
        "fig.update_layout(height=4000, width=2000, showlegend=False)\n",
        "fig.update_yaxes(tickvals=[0, 1], title='cancelación')\n",
        "\n",
        "fig.show()"
      ],
      "metadata": {
        "id": "9208JjsgrG21"
      },
      "execution_count": null,
      "outputs": []
    },
    {
      "cell_type": "code",
      "source": [
        "#Seleccionaremos las variables numéricas que consideramos relevantes para el análisis\n",
        "df_num_rel=df_numerico.copy()[['is_canceled','lead_time','stays_in_weekend_nights',\t'stays_in_week_nights','adults','children','babies','previous_cancellations','previous_bookings_not_canceled','booking_changes','adr']]\n",
        "df_num_rel['babies']=df_num_rel['babies'].fillna(0)\n",
        "df_num_rel['children']=df_num_rel['children'].fillna(0)\n",
        "df_num_rel.head(3)"
      ],
      "metadata": {
        "id": "AYjclF7M-0y4"
      },
      "execution_count": null,
      "outputs": []
    },
    {
      "cell_type": "code",
      "source": [
        "import plotly.graph_objects as go\n",
        "from plotly.subplots import make_subplots\n",
        "\n",
        "# Define cols_graf_vio as a flat list (not a list of lists)\n",
        "cols_graf_vio = [ 'lead_time', 'stays_in_weekend_nights', 'stays_in_week_nights',\n",
        "                  'adults', 'children', 'babies', 'previous_cancellations',\n",
        "                  'previous_bookings_not_canceled', 'booking_changes', 'adr']\n",
        "\n",
        "fig = make_subplots(rows=2, cols=5, subplot_titles=[f'{col}' for col in cols_graf_vio])\n",
        "\n",
        "for i, column in enumerate(cols_graf_vio):\n",
        "    box = go.Box(x=df_num_rel[column], name=column)\n",
        "    row = (i // 5) + 1\n",
        "    col = (i % 5) + 1\n",
        "    fig.add_trace(box, row=row, col=col)\n",
        "\n",
        "\n",
        "fig.update_layout(height=600, width=3000, title_text=\"Box Plots\")\n",
        "fig.show()\n",
        "\n"
      ],
      "metadata": {
        "id": "YnvWOrTNacum"
      },
      "execution_count": null,
      "outputs": []
    },
    {
      "cell_type": "code",
      "source": [
        "df_check=df.copy()\n",
        "df_check=df[df['babies']==9]\n",
        "df_check"
      ],
      "metadata": {
        "id": "5Hao5XjDnvL_"
      },
      "execution_count": null,
      "outputs": []
    },
    {
      "cell_type": "code",
      "source": [
        "for col in cols_graf_vio:\n",
        "    print('Feature Name: {}'.format(col))\n",
        "    for i in range(95, 101, 1):\n",
        "        quantile_value = np.quantile(df_num_rel[col], q=i/100)\n",
        "        print('{}th quantile value is: {}'.format(i, quantile_value))\n",
        "    print('\\n')\n"
      ],
      "metadata": {
        "id": "wE_vLCgihIZf"
      },
      "execution_count": null,
      "outputs": []
    },
    {
      "cell_type": "code",
      "source": [
        "import plotly.graph_objects as go\n",
        "from plotly.subplots import make_subplots\n",
        "\n",
        "\n",
        "df_count_cat=df_categorico.copy()\n",
        "df_count_cat=pd.concat([df_count_cat,df_numerico['is_canceled']],axis=1)\n",
        "df_total_reservas = df_count_cat.groupby('country')['is_canceled'].count().reset_index(name='total_reservas')\n",
        "df_total_reservas = df_total_reservas.sort_values(by='total_reservas')\n",
        "\n",
        "# Agrupar por país y estado de cancelación, contar las ocurrencias\n",
        "df_cancelaciones_bars = df_count_cat.groupby(['country', 'is_canceled']).size().reset_index(name='count')\n",
        "\n",
        "fig = make_subplots(specs=[[{\"secondary_y\": True}]])\n",
        "\n",
        "\n",
        "fig.add_trace(\n",
        "    go.Scatter(x=df_total_reservas['country'], y=df_total_reservas['total_reservas'],\n",
        "               name=\"Total de Reservas\", mode='lines+markers'),\n",
        "    secondary_y=False  # Esto indica que el gráfico de líneas usa el eje y primario\n",
        ")\n",
        "\n",
        "\n",
        "for is_canceled_value in [0, 1]:\n",
        "    df_filtered = df_cancelaciones_bars[df_cancelaciones_bars['is_canceled'] == is_canceled_value]\n",
        "    fig.add_trace(\n",
        "        go.Bar(x=df_filtered['country'], y=df_filtered['count'],\n",
        "               name=f\"Cancelado: {is_canceled_value}\", text=df_filtered['count']),\n",
        "        secondary_y=True  # Esto indica que el gráfico de barras usa el eje y secundario\n",
        "    )\n",
        "\n",
        "# Actualizar el layout del gráfico\n",
        "fig.update_layout(\n",
        "    title_text=\"Total de Reservas y Cancelaciones por País\",\n",
        "    xaxis_title=\"País\",\n",
        "    yaxis_title=\"Total de Reservas\",\n",
        "    yaxis2_title=\"Cantidad de Cancelaciones\",\n",
        "    barmode='stack',  # Apilar las barras\n",
        "    xaxis={'categoryorder':'total ascending'},  # Ordenar países por total de reservas\n",
        "    legend_title=\"Estado de Cancelación\"\n",
        ")\n",
        "\n",
        "# Mostrar gráfico\n",
        "fig.show()\n"
      ],
      "metadata": {
        "id": "vPTCj8JXm4jG"
      },
      "execution_count": null,
      "outputs": []
    },
    {
      "cell_type": "code",
      "source": [
        "# df_num_rel\n",
        "# df_cat_rel"
      ],
      "metadata": {
        "id": "gt2zZKYELI0x"
      },
      "execution_count": null,
      "outputs": []
    },
    {
      "cell_type": "code",
      "source": [
        "df=pd.concat([df_cat_rel,df_num_rel],axis=1)\n",
        "df.head(3)\n",
        "# df_num_rel concat df_cat_rel\n",
        "#Eliminar las en 'adults','children','babies', en 0"
      ],
      "metadata": {
        "id": "iAhKkXw96V2x"
      },
      "execution_count": null,
      "outputs": []
    },
    {
      "cell_type": "code",
      "source": [],
      "metadata": {
        "id": "SKvruMZq6VxH"
      },
      "execution_count": null,
      "outputs": []
    },
    {
      "cell_type": "code",
      "source": [],
      "metadata": {
        "id": "TNpUSGku6Vtc"
      },
      "execution_count": null,
      "outputs": []
    },
    {
      "cell_type": "code",
      "source": [],
      "metadata": {
        "id": "UnM7wc856Vkb"
      },
      "execution_count": null,
      "outputs": []
    },
    {
      "cell_type": "code",
      "source": [
        "df_base_corr=df_numerico.copy()\n",
        "\n",
        "plt.figure(figsize=(20,10), dpi =500)\n",
        "corr = df_base_corr.corr(method = 'pearson')\n",
        "sns.heatmap(corr,annot=True,fmt=\".2f\", linewidth=.5)\n",
        "plt.show()"
      ],
      "metadata": {
        "id": "E_I4u64kvWrv"
      },
      "execution_count": null,
      "outputs": []
    },
    {
      "cell_type": "markdown",
      "source": [
        "# **LIMPIEZA DE DATOS**\n",
        "\n",
        "---\n",
        "\n"
      ],
      "metadata": {
        "id": "P7SFzHLoqdT_"
      }
    },
    {
      "cell_type": "code",
      "source": [],
      "metadata": {
        "id": "SIl3tXrHqhpK"
      },
      "execution_count": null,
      "outputs": []
    }
  ]
}